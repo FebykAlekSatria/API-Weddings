{
 "cells": [
  {
   "cell_type": "code",
   "execution_count": 83,
   "metadata": {},
   "outputs": [],
   "source": [
    "import psycopg2\n",
    "# import random\n",
    "# import string\n",
    "\n",
    "def get_db_connection():\n",
    "    try:\n",
    "        conn = psycopg2.connect('''user=postgres\n",
    "                                password=satria20\n",
    "                                dbname=wedding\n",
    "                                host=127.0.0.1 \n",
    "                                port=5432''')\n",
    "        print (\"Berhasil terkoneksi\")\n",
    "        return conn\n",
    "    except:\n",
    "        print (\"Tidak dapat terkoneksi dengan database\")\n",
    "\n",
    "def select(query):\n",
    "    conn = get_db_connection()\n",
    "    cur = conn.cursor()\n",
    "    cur.execute(query)\n",
    "    data = cur.fetchall()\n",
    "    cur.close()\n",
    "    conn.close()\n",
    "    return data\n",
    "\n",
    "def selectbyid(query, id_user):\n",
    "    conn = get_db_connection()\n",
    "    cur = conn.cursor()\n",
    "    cur.execute(query,id_user)\n",
    "    data = cur.fetchall()\n",
    "    cur.close()\n",
    "    conn.close()\n",
    "    return data\n",
    "\n",
    "def insert(query, params):\n",
    "    conn = get_db_connection()\n",
    "    cur = conn.cursor()\n",
    "    cur.execute(query, params)\n",
    "    conn.commit()\n",
    "    count = cur.rowcount\n",
    "    cur.close()\n",
    "    conn.close()\n",
    "    return count\n",
    "\n",
    "def update(query, id):\n",
    "    conn = get_db_connection()\n",
    "    cur = conn.cursor()\n",
    "    cur.execute(query, id)\n",
    "    conn.commit()\n",
    "    count = cur.rowcount\n",
    "    cur.close()\n",
    "    conn.close()\n",
    "    return count\n",
    "\n",
    "def user():\n",
    "    query = 'SELECT * FROM \"user\"'\n",
    "    data = select(query)\n",
    "    return data\n",
    "\n",
    "def visitor():\n",
    "    query = 'SELECT * FROM \"visitor\" WHERE id_user = %s'\n",
    "    id_user='VM9T91QGXMN8P'\n",
    "    data = selectbyid(query, (id_user,))\n",
    "    return data\n",
    "\n",
    "def insertvisitor():\n",
    "    id_user='VM9T91Qgahavaj'\n",
    "    name = 'visitor'\n",
    "    password = 'visitor'\n",
    "    postgres_insert_query = \"\"\" INSERT INTO \"user\" (id, name, password) VALUES (%s,%s, %s)\"\"\"\n",
    "    record_to_insert = (id,name , password)\n",
    "    count = insert(postgres_insert_query, record_to_insert)\n",
    "\n",
    "def updateuser():\n",
    "    id='VM9T91Qgahava'\n",
    "    name = 'visit'\n",
    "    password = 'visitor'\n",
    "    query = \"\"\" UPDATE \"user\" SET name = %s, password = %s WHERE id = %s\"\"\"\n",
    "    params = (name, password, id)\n",
    "    count = update(query, params)\n",
    "    return count\n",
    "\n"
   ]
  },
  {
   "cell_type": "code",
   "execution_count": 84,
   "metadata": {},
   "outputs": [
    {
     "name": "stdout",
     "output_type": "stream",
     "text": [
      "Berhasil terkoneksi\n"
     ]
    },
    {
     "data": {
      "text/plain": [
       "1"
      ]
     },
     "execution_count": 84,
     "metadata": {},
     "output_type": "execute_result"
    }
   ],
   "source": [
    "updateuser()"
   ]
  }
 ],
 "metadata": {
  "interpreter": {
   "hash": "68e22f390cf5b009528c99c41562bbd9010d947054b7fbf1bfbbcf9ed8c52ee3"
  },
  "kernelspec": {
   "display_name": "Python 3.8.8 ('base')",
   "language": "python",
   "name": "python3"
  },
  "language_info": {
   "codemirror_mode": {
    "name": "ipython",
    "version": 3
   },
   "file_extension": ".py",
   "mimetype": "text/x-python",
   "name": "python",
   "nbconvert_exporter": "python",
   "pygments_lexer": "ipython3",
   "version": "3.8.8"
  },
  "orig_nbformat": 4
 },
 "nbformat": 4,
 "nbformat_minor": 2
}
